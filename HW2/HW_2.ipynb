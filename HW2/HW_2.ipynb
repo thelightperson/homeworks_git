{
 "cells": [
  {
   "cell_type": "markdown",
   "metadata": {},
   "source": [
    "# Домашнее задание 2\n",
    "## На курсе Анализ данных в Python (Социология)\n",
    "### Темы: предобработка данных для модели, линейная регрессия, регуляризация, оптимизация гиперпараметров, классификация и логистическая регрессия, SGD"
   ]
  },
  {
   "cell_type": "markdown",
   "metadata": {
    "id": "RBxaROjhnExd"
   },
   "source": [
    "**Примечание**\n",
    "\n",
    "В каждой части оцениваются как код, **так и ответы на вопросы.** Если вопрос задается конкретно, то предполагается, что вы дадите комментарии.\n",
    "\n",
    "Если нет одного и/или другого, то часть баллов за соответствующее задание снимается."
   ]
  },
  {
   "cell_type": "code",
   "execution_count": null,
   "metadata": {
    "id": "bKXD33FOsnGd"
   },
   "outputs": [],
   "source": [
    "import pandas as pd\n",
    "import numpy as np\n",
    "import matplotlib.pyplot as plt\n",
    "import random\n",
    "import seaborn as sns\n",
    "from sklearn.model_selection import train_test_split\n",
    "from sklearn.linear_model import LogisticRegression\n",
    "from sklearn.metrics import (\n",
    "    accuracy_score,\n",
    "    precision_score,\n",
    "    recall_score,\n",
    "    f1_score,\n",
    "    roc_auc_score,\n",
    "    average_precision_score,\n",
    "    classification_report,\n",
    "    confusion_matrix,\n",
    "random.seed(42)\n",
    "np.random.seed(42)"
   ]
  },
  {
   "cell_type": "markdown",
   "metadata": {
    "id": "GAzbEw1ctU4f"
   },
   "source": [
    "**Задание 0 (0 баллов).**\n",
    "Для чего фиксируем сиды в домашках?"
   ]
  },
  {
   "cell_type": "markdown",
   "metadata": {
    "id": "gNtt7mM9eAY4"
   },
   "source": [
    "`Your answer here`"
   ]
  },
  {
   "cell_type": "markdown",
   "metadata": {
    "id": "ykzSVgN7q-xZ"
   },
   "source": [
    "# **Часть 1 | EDA и визуализация**\n",
    "\n",
    "Первая часть состоит из классических шагов EDA:\n",
    "\n",
    "- Базовый EDA и обработка признаков\n",
    "- Визуализации признаков и их анализ\n"
   ]
  },
  {
   "cell_type": "markdown",
   "metadata": {
    "id": "e-4bM9CKAtCj"
   },
   "source": [
    "## **Простейший EDA и обработка признаков (4.5 балла)**"
   ]
  },
  {
   "cell_type": "code",
   "execution_count": 3,
   "metadata": {
    "colab": {
     "base_uri": "https://localhost:8080/"
    },
    "id": "FniH6eCGFSi_",
    "outputId": "4fd8379a-e20e-4e8a-c737-14bc17dedad0"
   },
   "outputs": [
    {
     "name": "stdout",
     "output_type": "stream",
     "text": [
      "Train data shape: (6999, 13)\n",
      "Test data shape:  (1000, 13)\n"
     ]
    }
   ],
   "source": [
    "df_train = pd.read_csv('https://raw.githubusercontent.com/Murcha1990/MLDS_ML_2022/main/Hometasks/HT1/cars_train.csv')\n",
    "df_test = pd.read_csv('https://raw.githubusercontent.com/Murcha1990/MLDS_ML_2022/main/Hometasks/HT1/cars_test.csv')\n",
    "\n",
    "print(\"Train data shape:\", df_train.shape)\n",
    "print(\"Test data shape: \", df_test.shape)"
   ]
  },
  {
   "cell_type": "markdown",
   "metadata": {
    "id": "CPe2gY1agYfp"
   },
   "source": [
    "### **Задание 1 (1.65 балла)**\n",
    "\n",
    "Выполните операции, направленные на практику основных действий с `pandas`:\n",
    "- [ ] Отобразите 10 случайных строк тренировочного датасета (0.15 балла)\n",
    "- [ ] Отобразите первые 5 и последние 5 объектов тестового датасета (0.1 балла)\n",
    "- [ ] Посмотрите, есть ли в датасете пропуски. Запишите/выведите названия колонок, для которых есть пропущенные значения (0.1 балла)\n",
    "- [ ] Посмотрите, есть ли в данных явные дубликаты (0.05 балла)\n"
   ]
  },
  {
   "cell_type": "code",
   "execution_count": null,
   "metadata": {
    "id": "_Saw94eMhP5E"
   },
   "outputs": [],
   "source": [
    "# your code here"
   ]
  },
  {
   "cell_type": "markdown",
   "metadata": {
    "id": "KF6L8XVejuEe"
   },
   "source": [
    "Мы обнаружили пропуски. Давайте избавимся от них.\n",
    "\n",
    "- [ ] Заполните пропуски в столбцах медианами. Убедитесь, что после заполнения пропусков не осталось. Заполнение пропусков проводите для обоих наборов данных, если необходимо\n",
    "\n",
    "**Важно!**\n",
    "\n",
    "При заполнении пропусков и в тестовом, и тренировочном наборах данных вы определяетесь со стратегией предобработки пропущенных значений при потенциальной работе модели.\n",
    "\n",
    "Так как в теоретическом случае вы не имеете доступа к тестовой выборке, то заполняемой значение (у нас — медиана) вы считаете про *тренировочному* набору данных и им же заполняете *тестовый*."
   ]
  },
  {
   "cell_type": "code",
   "execution_count": null,
   "metadata": {
    "id": "-ayq_I9Pk68k"
   },
   "outputs": [],
   "source": [
    "# your code here"
   ]
  },
  {
   "cell_type": "markdown",
   "metadata": {
    "id": "VE_ecCD7hRFV"
   },
   "source": [
    "### **Задание 2 (1.5 балла)**\n",
    "\n",
    "- [ ] Посмотрите, есть ли в трейне объекты с одинаковым признаковым описанием (целевую переменную следует исключить). Если есть, то сколько? (0.1 балла)\n",
    "- [ ] Отобразите такие объекты (0.15 балла)\n",
    "- [ ] Удалите повторяющиеся строки. Если при одинаковом признаковом описании цены на автомобили отличаются, то оставьте первую строку по этому автомобилю (0.15 балла)\n",
    "- [ ]  Обновите индексы строк таким образом, чтобы они шли от 0 без пропусков (0.1 балла)\n"
   ]
  },
  {
   "cell_type": "code",
   "execution_count": 5,
   "metadata": {
    "id": "SkyrBlHWiGY6"
   },
   "outputs": [],
   "source": [
    "df_train.drop_duplicates(subset=[\"name\", \"year\", \"km_driven\", \"fuel\", \"seller_type\", \"transmission\", \"owner\", \"mileage\", \"engine\", \"max_power\", \"torque\", \"seats\"], keep='first', inplace=True)"
   ]
  },
  {
   "cell_type": "code",
   "execution_count": 6,
   "metadata": {
    "id": "955cO__niGyz"
   },
   "outputs": [],
   "source": [
    "\n",
    "assert df_train.shape == (5840, 13)"
   ]
  },
  {
   "cell_type": "markdown",
   "metadata": {
    "id": "sam1Pzn-iU86"
   },
   "source": [
    "Отлично! Мы избавились от маленьких и явных проблем. Теперь перейдем к более сложным недостаткам полученной таблицы.\n",
    "\n",
    "### **Задание 3 (0.75 балла)**\n",
    "\n",
    "Вы могли заметить, что с признаками ``mileage, engine, max_power и torque`` всё не очень хорошо. Они распознаются как строки (можно убедиться в этом, вызвав `data.dtypes`). Однако эти переменные не являются категориальными — они — числа. Соответственно, нужно привести их к числовому виду.\n",
    "\n",
    "**Задача :**\n",
    "* [ ] Уберите единицы измерения для признаков ``mileage, engine, max_power``.\n",
    "* [ ] Приведите тип данных к ``float``.\n",
    "* [ ] Удалите столбец ``torque``\n",
    "\n",
    "\n",
    "**Важно**\n",
    "- Все действия нужно производить над обоими датасетами — `train` и `test`.\n",
    "- Стобец ``torque`` мы удаляем для простоты. В идеальном случае, его также стоило бы предобработать."
   ]
  },
  {
   "cell_type": "code",
   "execution_count": null,
   "metadata": {
    "id": "Mi1RSmFjlAm7"
   },
   "outputs": [],
   "source": [
    "# your code here"
   ]
  },
  {
   "cell_type": "markdown",
   "metadata": {
    "id": "_r9cXKx9lDaZ"
   },
   "source": [
    "### **Задание 4 (0.3 балла)**\n",
    "\n",
    "Теперь, когда не осталось пропусков, давайте преобразуем столбцы к более подходящим типам. А именно столбцы ``engnine`` и ``seats`` к приведем к `int`.\n",
    "\n",
    "- [ ] Осуществите приведение столбцов к необходимому типу."
   ]
  },
  {
   "cell_type": "code",
   "execution_count": null,
   "metadata": {
    "id": "JUT8mOQNlmlN"
   },
   "outputs": [],
   "source": [
    "# your code here"
   ]
  },
  {
   "cell_type": "markdown",
   "metadata": {
    "id": "DFuQ_PsulqCs"
   },
   "source": [
    "### **Задание 5 (0.3 балла)**\n",
    "\n",
    "Отлично! Мы провели \"косметическую\" предобработку и теперь готовы сделать важный шаг в контексте анализа данных. А именно — посмотреть на статистики!\n",
    "\n",
    "**Ваша задача:**\n",
    "- [ ] Посчитайте основные статистики по числовым столбцам для трейна и теста\n",
    "- [ ] Посчитайте основные статистики по категориальным столбцам для трейна и теста\n",
    "\n",
    "**Подсказка:**\n",
    "\n",
    "Используте ``.describe()`` с нужным(и) аргументом(-ами).\n",
    "\n",
    "**Примечание:**\n",
    "\n",
    "Более корректно рассматривать статистики до заполнения пропусков и после, чтобы убедиться, что мы не внесли каких-либо серьезных сдвигов в изначальные рапсределения."
   ]
  },
  {
   "cell_type": "code",
   "execution_count": 8,
   "metadata": {},
   "outputs": [
    {
     "data": {
      "text/html": [
       "<div>\n",
       "<style scoped>\n",
       "    .dataframe tbody tr th:only-of-type {\n",
       "        vertical-align: middle;\n",
       "    }\n",
       "\n",
       "    .dataframe tbody tr th {\n",
       "        vertical-align: top;\n",
       "    }\n",
       "\n",
       "    .dataframe thead th {\n",
       "        text-align: right;\n",
       "    }\n",
       "</style>\n",
       "<table border=\"1\" class=\"dataframe\">\n",
       "  <thead>\n",
       "    <tr style=\"text-align: right;\">\n",
       "      <th></th>\n",
       "      <th>x</th>\n",
       "    </tr>\n",
       "  </thead>\n",
       "  <tbody>\n",
       "    <tr>\n",
       "      <th>0</th>\n",
       "      <td>5</td>\n",
       "    </tr>\n",
       "    <tr>\n",
       "      <th>1</th>\n",
       "      <td>6</td>\n",
       "    </tr>\n",
       "    <tr>\n",
       "      <th>2</th>\n",
       "      <td>9</td>\n",
       "    </tr>\n",
       "    <tr>\n",
       "      <th>3</th>\n",
       "      <td>None</td>\n",
       "    </tr>\n",
       "  </tbody>\n",
       "</table>\n",
       "</div>"
      ],
      "text/plain": [
       "      x\n",
       "0     5\n",
       "1     6\n",
       "2     9\n",
       "3  None"
      ]
     },
     "execution_count": 8,
     "metadata": {},
     "output_type": "execute_result"
    }
   ],
   "source": [
    "df = {'x': ['5','6','9',None]}\n",
    "\n",
    "df_pd = pd.DataFrame(df)\n",
    "\n",
    "df_pd.head()"
   ]
  },
  {
   "cell_type": "code",
   "execution_count": 9,
   "metadata": {},
   "outputs": [
    {
     "name": "stdout",
     "output_type": "stream",
     "text": [
      "<class 'pandas.core.frame.DataFrame'>\n",
      "RangeIndex: 4 entries, 0 to 3\n",
      "Data columns (total 1 columns):\n",
      " #   Column  Non-Null Count  Dtype \n",
      "---  ------  --------------  ----- \n",
      " 0   x       3 non-null      object\n",
      "dtypes: object(1)\n",
      "memory usage: 164.0+ bytes\n"
     ]
    }
   ],
   "source": [
    "df_pd.info()"
   ]
  },
  {
   "cell_type": "code",
   "execution_count": 10,
   "metadata": {
    "id": "kYKWyjsLYQuz"
   },
   "outputs": [
    {
     "name": "stdout",
     "output_type": "stream",
     "text": [
      "<class 'pandas.core.series.Series'>\n",
      "RangeIndex: 4 entries, 0 to 3\n",
      "Series name: x\n",
      "Non-Null Count  Dtype  \n",
      "--------------  -----  \n",
      "3 non-null      float64\n",
      "dtypes: float64(1)\n",
      "memory usage: 164.0 bytes\n"
     ]
    }
   ],
   "source": [
    "df_pd = df_pd['x'].astype(float)\n",
    "df_pd.info()"
   ]
  },
  {
   "cell_type": "code",
   "execution_count": null,
   "metadata": {},
   "outputs": [],
   "source": [
    "# Проверка того, что все сделали правильно\n",
    "\n",
    "assert df_train.shape == (5840, 13), 'Упс, неверный размер данных. Возможно, вы что-то сделали не так?'"
   ]
  },
  {
   "cell_type": "markdown",
   "metadata": {
    "id": "OmV784QWZOpO"
   },
   "source": [
    "## **Визуализации (3 балла)**\n",
    "\n"
   ]
  },
  {
   "cell_type": "markdown",
   "metadata": {
    "id": "6p2L60ngZueT"
   },
   "source": [
    "Визуализация данных — важный шаг в работе. Визуализировать данные необходимо, например, чтобы:\n",
    "\n",
    "- Оценить распределения признаков самих по себе (это может натоклнуть вас на мысли о модели, которую можно использовать)\n",
    "- Сравнить распределения на `train` и `test` — чтобы проверить, насколько информация, на которой вы будете обучаться согласуется с той, на которой модель должна работать\n",
    "- Оценить есть ли явная связь признаков с целевой переменной\n",
    "\n",
    "**Важно:**\n",
    "\n",
    "Если распределения на `train` и `test` не совпадают, это не значит, что нужно перемешивать данные! Более корректно актуализировать задачу и уточнить, а не устарели ли данные `train`. Также полезным может быть собрать новую тестовую выборку, смешав те, что имеются сейчас.\n",
    "\n",
    "**Если вы будете подгонять распределения, то можете встретиться с переобучением!**"
   ]
  },
  {
   "cell_type": "markdown",
   "metadata": {
    "id": "bNjHoAt7nlOa"
   },
   "source": [
    "### **Задание 6 (1.5 балла)**\n",
    "\n",
    "Шаг 1.\n",
    "- [ ] Воспользуйтесь `pairplot` из библиотеки `seabron`, чтобы визуализировать попарные распределения числовых признаков для `train`\n",
    "- [ ] По полученному графику ответьте на вопросы:\n",
    " - Можно ли предположить на основе распределений связь признаков с целевой переменной?\n",
    " - Можно ли предположить на основе распределений выдвинуть гипотезу о корреляциях признаков?\n",
    "\n",
    "Шаг 2.\n",
    "\n",
    "- [ ] Постройте pairplot по тестовым данным\n",
    "- [ ] Ответьте на вопрос \"Похожими ли оказались совокупности при разделении на трейн и тест?\""
   ]
  },
  {
   "cell_type": "code",
   "execution_count": null,
   "metadata": {
    "id": "0car89hFaby1"
   },
   "outputs": [],
   "source": [
    "# your code here"
   ]
  },
  {
   "cell_type": "code",
   "execution_count": null,
   "metadata": {
    "id": "NK9l6SrAeHK1"
   },
   "outputs": [],
   "source": [
    "# your code here"
   ]
  },
  {
   "cell_type": "markdown",
   "metadata": {
    "id": "9Nrf9A_Mohgz"
   },
   "source": [
    "`Your answer here`"
   ]
  },
  {
   "cell_type": "markdown",
   "metadata": {
    "id": "1G4nG3GWoniC"
   },
   "source": [
    "### **Задание 7 (1.5 балла)**\n",
    "\n",
    "И так, вы выдвинули гипотезы о наличии связи. Теперь давайте оценим эту связь в числах.\n",
    "\n",
    "**Задание:**\n",
    "- [ ] Получите значения коэффициента корреляции Пирсона для тренировочного набора данных при помощи `pd.corr()`\n",
    "- [ ] По полученным корреляциям постройте тепловую карту (`heatmap` из бибилотеки seaborn)\n"
   ]
  },
  {
   "cell_type": "code",
   "execution_count": null,
   "metadata": {
    "id": "E99LVAN2fMVH"
   },
   "outputs": [],
   "source": [
    "# your code here"
   ]
  },
  {
   "cell_type": "markdown",
   "metadata": {
    "id": "w24a_oXqf12H"
   },
   "source": [
    "- [ ] Ответьте на вопросы:\n",
    " - Какие 2 признака наименее скоррелированы между собой?\n",
    " - Между какими наблюдается довольно сильная положительная линейная зависимость?\n",
    " - Правильно ли, опираясь на данные, утверждать, что чем меньше год, тем, скорее всего, больше километров проехала машина к дате продажи?"
   ]
  },
  {
   "cell_type": "markdown",
   "metadata": {
    "id": "asliCDvapsEe"
   },
   "source": [
    "`Your answer here`"
   ]
  },
  {
   "cell_type": "markdown",
   "metadata": {
    "id": "uS2CQ1LzrP_U"
   },
   "source": [
    "# **Часть 2 | Модель только на вещественных признаках (6.25 балла)**\n",
    "\n",
    "В этой части вам предстоит обучить модель только на вещественных признаках. Почему только на них?\n",
    "\n",
    "Чем больше признаковое пространство — чем сложнее модель. А чем модель проще — тем лучше для скорости работы и интерпретации признаков.\n"
   ]
  },
  {
   "cell_type": "markdown",
   "metadata": {
    "id": "KrsL99SsqWIz"
   },
   "source": [
    "### **Задание 8 (0.25 балла)**\n",
    "\n",
    "Разбейте данные на тренировочный и тестовый наборы. Перед разбиением создайте копию датафрейма, который будет хранить только вещественные признаки и используйте его (то есть категориальные столбцы (все, кроме seats) необходимо удалить).\n",
    "\n",
    "В переменные y_train и y_test запишите значения целевых переменных."
   ]
  },
  {
   "cell_type": "code",
   "execution_count": null,
   "metadata": {
    "id": "cGxjJSSUg2na"
   },
   "outputs": [],
   "source": [
    "y_train = # your code here\n",
    "X_train = # your code here"
   ]
  },
  {
   "cell_type": "code",
   "execution_count": null,
   "metadata": {
    "id": "fyMyARKem5wl"
   },
   "outputs": [],
   "source": [
    "assert X_train.shape == (5840, 6), 'Упс, неверный размер данных. Возможно, вы что-то сделали не так?'"
   ]
  },
  {
   "cell_type": "code",
   "execution_count": null,
   "metadata": {
    "id": "xKRmqiJ5rbSx"
   },
   "outputs": [],
   "source": [
    "y_test = # your code here\n",
    "X_test = # your code here"
   ]
  },
  {
   "cell_type": "code",
   "execution_count": null,
   "metadata": {
    "id": "-JepTZ36y-h-"
   },
   "outputs": [],
   "source": [
    "assert X_test.shape == (1000, 6), 'Упс, неверный размер данных. Возможно, вы что-то сделали не так?'"
   ]
  },
  {
   "cell_type": "markdown",
   "metadata": {
    "id": "U5b4TfLtq-FC"
   },
   "source": [
    "### **Задание 9 (1 балл)**\n",
    "\n",
    "Построим нашу первую модель!\n",
    "- [ ] Обучите классическую линейную регрессию с дефолтными параметрами. Посчтитайте $R^2$ и $MSE$ для трейна и для теста.\n",
    "- [ ] Сделайте выводы по значениям метрик качества.\n",
    "\n",
    "**Примечание:**\n",
    "\n",
    "Здесь и далее $R^2$ и $MSE$ для трейна и для теста выводите везде, где требуется обучать модели, даже если в явном виде этого не просят. Иначе непонятно, как понять, насколько успешны наши эксперименты."
   ]
  },
  {
   "cell_type": "code",
   "execution_count": null,
   "metadata": {
    "id": "hVYXaeTgrb3d"
   },
   "outputs": [],
   "source": [
    "from sklearn.linear_model import LinearRegression\n",
    "from sklearn.metrics import r2_score, mean_squared_error as MSE\n",
    "\n",
    "# your code here"
   ]
  },
  {
   "cell_type": "markdown",
   "metadata": {
    "id": "HpQ8EG2Uk_Dn"
   },
   "source": [
    "### **Задание 10 (0.75 балла)**\n",
    "\n",
    "Всегда есть место совершенству. Поэтому давайте попробуем улучшить модель. При помощи стандартизации признаков.\n",
    "\n",
    "- [ ] Стандартизируйте значения в тренировочных и тестовых данных. Стандартизатор **обучайте только на `train`**."
   ]
  },
  {
   "cell_type": "code",
   "execution_count": null,
   "metadata": {
    "id": "o6FB80C2rciK"
   },
   "outputs": [],
   "source": [
    "from sklearn.preprocessing import StandardScaler\n",
    "\n",
    "# your code here"
   ]
  },
  {
   "cell_type": "markdown",
   "metadata": {
    "id": "oQZi8LYVmiPv"
   },
   "source": [
    "### **Задание 11 (0.5 балла)**\n",
    "\n",
    "Хотя стандартизация не помогла сильно прибавить в качестве она открыла возможность интерпретировать важность признаков в модели. Правило интерпретации такое:\n",
    "\n",
    "Чем больше коэффициент $\\beta_i$ по модулю, тем важнее признак.\n",
    "\n",
    "**Ответьте на вопрос:**\n",
    "\n",
    "- [ ] Какой признак оказался наиболее информативным в предсказании цены?"
   ]
  },
  {
   "cell_type": "code",
   "execution_count": null,
   "metadata": {
    "id": "u9onBNrhmt1r"
   },
   "outputs": [],
   "source": [
    "# your code here"
   ]
  },
  {
   "cell_type": "markdown",
   "metadata": {
    "id": "5BR3XLXUsm1q"
   },
   "source": [
    "### **Задание 12 (1.25 балла)**\n",
    "\n",
    "Попробуем улучшить нашу модель с помощью применения регуляризации. Для этого воспльзуемся `Lasso` регрессией.  Кроме того, попробуйте использовать её теоретическое свойство отбора признаков, за счет зануления незначимых коэффициентов.\n",
    "\n",
    "**Задание:**\n",
    "\n",
    "- [ ] Обучите Lasso регрессию на тренировочном наборе данных с нормализованными признаками. Оцените её качество\n",
    "- [ ] Проверьте, занулила ли L1-регуляризация с параметрами по умолчанию какие-нибудь веса? Предположите почему."
   ]
  },
  {
   "cell_type": "code",
   "execution_count": null,
   "metadata": {
    "id": "yhR5eajPn0kl"
   },
   "outputs": [],
   "source": [
    "from sklearn.linear_model import Lasso\n",
    "\n",
    "# your code here"
   ]
  },
  {
   "cell_type": "code",
   "execution_count": null,
   "metadata": {
    "id": "EBJKIp6FouYw"
   },
   "outputs": [],
   "source": [
    "# your code here"
   ]
  },
  {
   "cell_type": "markdown",
   "metadata": {
    "id": "YYWLInilqQTE"
   },
   "source": [
    "### **Задание 13 Финальный рывок (2.5 балла)**\n",
    "\n",
    "До этого мы с вами использовали `train` для обучения и `test` для прогнозирования. Но у нас есть ещё одна задача — подобрать оптимальные параметры модели. Для этого используем кросс-валидацию, описанную на семинарах.\n",
    "\n",
    "Кроме того, выжмем максимум из модификаций регрессии. Построим `ElasticNet`. И сделаем всё по порядку.\n",
    "\n",
    "**Ваша задача 1:**\n",
    "\n",
    "- [ ] Перебором по сетке (c 10-ю фолдами) подберите оптимальные параметры для Lasso-регрессии. Вам пригодится класс [GridSearchCV](https://scikit-learn.org/stable/modules/generated/sklearn.model_selection.GridSearchCV.html).\n",
    "- [ ] Ответьте на вопросы:\n",
    " - Сколько грид-сёрчу пришлось обучать моделей?\n",
    " - Какой коэффициент регуляризации у лучшей из перебранных моделей? Занулились ли какие-нибудь из весов при такой регуляризации?"
   ]
  },
  {
   "cell_type": "code",
   "execution_count": null,
   "metadata": {
    "id": "mdGQ6CvApr_P"
   },
   "outputs": [],
   "source": [
    "from sklearn.model_selection import GridSearchCV\n",
    "\n",
    "# your code here"
   ]
  },
  {
   "cell_type": "code",
   "execution_count": null,
   "metadata": {
    "id": "joyYE2Q5shu5"
   },
   "outputs": [],
   "source": [
    "# your code here"
   ]
  },
  {
   "cell_type": "markdown",
   "metadata": {
    "id": "05579aJCuY2A"
   },
   "source": [
    "**Ваша задача 2:**\n",
    "\n",
    "- [ ] Перебором по сетке (c 10-ю фолдами) подберите оптимальные параметры для [ElasticNet](https://scikit-learn.org/stable/modules/generated/sklearn.linear_model.ElasticNet.html) регрессии.\n",
    "- [ ] Ответьте на вопрос:\n",
    " - Сколько грид-сёрчу пришлось обучать моделей?\n",
    " - Какие гиперпараметры соответствуют лучшей (по выбранной метрике качества) из перебранных моделей?"
   ]
  },
  {
   "cell_type": "code",
   "execution_count": null,
   "metadata": {
    "id": "F3e5MGZMoeCR"
   },
   "outputs": [],
   "source": [
    "from sklearn.linear_model import ElasticNet\n",
    "\n",
    "# your code here"
   ]
  },
  {
   "cell_type": "markdown",
   "metadata": {
    "id": "Y2y-_PCHrevF"
   },
   "source": [
    "# **Часть 3| Добавляем категориальные фичи (3.75 балла)**\n",
    "\n",
    "Попробуем для улучшения модели дать ей больше признаков. Добавим категориальные фичи.\n"
   ]
  },
  {
   "cell_type": "markdown",
   "metadata": {
    "id": "frLASc5L8Tu5"
   },
   "source": [
    "### **Задание 14 (0.5 балла)** Проанализируйте столбец `name`. Очевидно, что эта переменная является категориальной, однако категорий в ней много.\n",
    "\n",
    "В этом домашнем задании мы предлагаем удалить его.\n",
    "\n",
    "**Ваша задача:**\n",
    "1. Удалить столбец`name`\n",
    "2. Снова объединить категориальные с вещественными признаками."
   ]
  },
  {
   "cell_type": "code",
   "execution_count": null,
   "metadata": {
    "id": "jsXiFjaFrng-"
   },
   "outputs": [],
   "source": [
    "# your code here"
   ]
  },
  {
   "cell_type": "markdown",
   "metadata": {
    "id": "wrGfeTnjv9Vx"
   },
   "source": [
    "### **Задание 15 (2 балла)**\n",
    "\n",
    "- [ ] Закодируйте категориалльные фичи и ``seats`` методом OneHot-кодирования. Обратите внимание, что во избежание мультиколлинеарности следует избавиться от одного из полученных столбцов при кодировании каждого признака методом OneHot."
   ]
  },
  {
   "cell_type": "code",
   "execution_count": null,
   "metadata": {
    "id": "wbN4yM2Frob7"
   },
   "outputs": [],
   "source": [
    "from sklearn.preprocessing import OneHotEncoder # или можно использовать get_dummies из библиотеки pandas\n",
    "\n",
    "# your code here"
   ]
  },
  {
   "cell_type": "markdown",
   "metadata": {
    "id": "rCrVls8SwJJX"
   },
   "source": []
  },
  {
   "cell_type": "markdown",
   "metadata": {
    "id": "b8fI5dQT-Fvx"
   },
   "source": [
    "### **Задание 16 (1.25 балла)**\n",
    "Повторим то, что делали на прошлом шаге для моделей на вещественных признаках, однако теперь с моделью `Ridge`.\n",
    "\n",
    "\n",
    "**Ваша задача:**\n",
    "- [ ] Переберите параметр регуляризации `alpha` для гребневой (ridge) регрессии с помощью класса `GridSearchCV` В качестве параметров при объявлении GridSearchCV кроме модели укажите метрику качества $R^2$. Кроссвалидируйтесь по 10-ти фолдам.\n",
    "- [ ] Ответье на вопрос: Удалось ли улучшить качество прогнозов?"
   ]
  },
  {
   "cell_type": "code",
   "execution_count": null,
   "metadata": {
    "id": "SLXCtme53Oup"
   },
   "outputs": [],
   "source": [
    "from sklearn.linear_model import Ridge\n",
    "from sklearn.model_selection import GridSearchCV\n",
    "\n",
    "# your code here"
   ]
  },
  {
   "cell_type": "markdown",
   "metadata": {},
   "source": [
    "# **Часть 4 (7 баллов) | Классификация**\n",
    "\n"
   ]
  },
  {
   "cell_type": "code",
   "execution_count": 7,
   "metadata": {},
   "outputs": [
    {
     "name": "stdout",
     "output_type": "stream",
     "text": [
      "%pylab is deprecated, use %matplotlib inline and import the required libraries.\n",
      "Populating the interactive namespace from numpy and matplotlib\n"
     ]
    },
    {
     "name": "stderr",
     "output_type": "stream",
     "text": [
      "/mnt/sdb1/Работа/Преподавание/Анализ данных в питоне 2024/Python_git/myenv/lib64/python3.12/site-packages/IPython/core/magics/pylab.py:166: UserWarning: pylab import has clobbered these variables: ['random']\n",
      "`%matplotlib` prevents importing * from pylab and numpy\n",
      "  warn(\"pylab import has clobbered these variables: %s\"  % clobbered +\n"
     ]
    }
   ],
   "source": [
    "%pylab inline\n",
    "import pandas as pd\n",
    "\n",
    "from sklearn.datasets import make_classification\n",
    "from sklearn.model_selection import train_test_split"
   ]
  },
  {
   "cell_type": "code",
   "execution_count": 8,
   "metadata": {},
   "outputs": [],
   "source": [
    "X, y = make_classification(\n",
    "    n_samples=100000, n_features=20, n_informative=10, n_redundant=10,\n",
    "    random_state=42)\n",
    "\n",
    "X_train, X_test, y_train, y_test = train_test_split(\n",
    "    X, y, test_size=0.3, random_state=42)"
   ]
  },
  {
   "cell_type": "markdown",
   "metadata": {},
   "source": [
    "### **Задание 13 (2 балла)**\n",
    "Обучите логистическую регрессию на синтетических данных."
   ]
  },
  {
   "cell_type": "code",
   "execution_count": null,
   "metadata": {},
   "outputs": [],
   "source": [
    "# your code here"
   ]
  },
  {
   "cell_type": "markdown",
   "metadata": {},
   "source": [
    "На тестовой части посчитайте ROC-AUC, PR-AUC. Самостоятельно изучите, что такое PR-AUC.\n",
    "\n",
    "Постройте ROC и PR кривые. Проинтерпретируйте результат."
   ]
  },
  {
   "cell_type": "code",
   "execution_count": null,
   "metadata": {},
   "outputs": [],
   "source": [
    "# your code here"
   ]
  },
  {
   "cell_type": "markdown",
   "metadata": {},
   "source": [
    "### **Задание 14 (2 балла)**"
   ]
  },
  {
   "cell_type": "markdown",
   "metadata": {},
   "source": [
    "Загрузим данные с конкурса  [Kaggle Porto Seguro’s Safe Driver Prediction](https://www.kaggle.com/c/porto-seguro-safe-driver-prediction) (вам нужна только обучающая выборка). Задача состоит в определении водителей, которые в ближайший год воспользуются своей автомобильной страховкой (бинарная классификация). Но для нас важна будет не сама задача, а только её данные. При этом для задания мы немного модифицируем датасет."
   ]
  },
  {
   "cell_type": "code",
   "execution_count": null,
   "metadata": {},
   "outputs": [],
   "source": [
    "data = pd.read_csv('train.csv', index_col=0)\n",
    "target = data.target.values\n",
    "data = data.drop('target', axis=1)\n",
    "X_train, X_test, y_train, y_test = train_test_split(data, target, test_size=0.2, random_state=124)"
   ]
  },
  {
   "cell_type": "markdown",
   "metadata": {},
   "source": [
    "Посчитайте качество (выведите все метрики классификации) на train и test при применении логистической регрессии."
   ]
  },
  {
   "cell_type": "code",
   "execution_count": null,
   "metadata": {},
   "outputs": [],
   "source": [
    "# your code here"
   ]
  },
  {
   "cell_type": "markdown",
   "metadata": {},
   "source": [
    "### **Задание 15 (2 балла)**"
   ]
  },
  {
   "cell_type": "markdown",
   "metadata": {},
   "source": [
    "Закодируйте все категориальные признаки с помощью one-hot-кодирования, а числовые признаки масштабируйте. Обучите логистическую регрессию и посмотрите, как изменилось качество модели (с тем, что было до предобработки). Измерьте время, потребовавшееся на обучение модели. Исходные колонки с категориальными признаками можно удалить. Сколько признаков мы получили?"
   ]
  },
  {
   "cell_type": "code",
   "execution_count": null,
   "metadata": {},
   "outputs": [],
   "source": [
    "# your code here"
   ]
  },
  {
   "cell_type": "markdown",
   "metadata": {},
   "source": [
    "### **Задание 16 (1 балла)**"
   ]
  },
  {
   "cell_type": "markdown",
   "metadata": {},
   "source": [
    "Давайте попробуем использовать SGDClassifier для улучшения качества модели. Улучшились ли метрики и качество в целом на трейне и тесте? Используйте GreedSearchCV"
   ]
  },
  {
   "cell_type": "code",
   "execution_count": null,
   "metadata": {},
   "outputs": [],
   "source": [
    "# your code here"
   ]
  }
 ],
 "metadata": {
  "colab": {
   "include_colab_link": true,
   "provenance": []
  },
  "kernelspec": {
   "display_name": "env_for_homeworks",
   "language": "python",
   "name": "python3"
  },
  "language_info": {
   "codemirror_mode": {
    "name": "ipython",
    "version": 3
   },
   "file_extension": ".py",
   "mimetype": "text/x-python",
   "name": "python",
   "nbconvert_exporter": "python",
   "pygments_lexer": "ipython3",
   "version": "3.11.4"
  }
 },
 "nbformat": 4,
 "nbformat_minor": 0
}

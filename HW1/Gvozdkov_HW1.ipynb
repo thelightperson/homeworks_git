{
 "cells": [
  {
   "cell_type": "markdown",
   "metadata": {},
   "source": [
    "# <p style = \"text-align: center;\"> Домашнее задание №1 </p>\n",
    "### <p style = \"text-align: center;\"> *Гвоздков Иван, БСЦ214* </p>"
   ]
  },
  {
   "cell_type": "markdown",
   "metadata": {},
   "source": [
    "#### №1. Средний балл"
   ]
  },
  {
   "cell_type": "code",
   "execution_count": 68,
   "metadata": {},
   "outputs": [
    {
     "name": "stdout",
     "output_type": "stream",
     "text": [
      "Студент: Питонов, Иван\n",
      "Возраст студента: 19\n",
      "Оценки студента: 8, 7, 7, 9, 6\n",
      "Средний балл студента: 7.4\n",
      "Повышенная стипендия: False\n"
     ]
    }
   ],
   "source": [
    "# Получаем на вход готовый список, остаётся только высчитать искомые переменные и вывести результат\n",
    "student = ['Иван Питонов', 2001, [8, 7, 7, 9, 6], True]\n",
    "\n",
    "# Фамилию и имя выводим, обращаясь к элементу под индексом [0] в списке, делим строку на фамилию и имя с помощью split\n",
    "lastname = student[0].split()[1]\n",
    "firstname = student[0].split()[0]\n",
    "\n",
    "# Чтобы найти возраст, нужно отнять от нынешнего года (2020 по условию) год рождения - это элемент под индексом [1] в списке\n",
    "age = 2020 - student[1]\n",
    "\n",
    "# Выводим оценки через запятую - это список, элемент под индексом [2] в нашем исходном списке\n",
    "marks = ', '.join(map(str, student[2]))\n",
    "\n",
    "# Элементарно считаем средний балл - сумму делим на мощность, обратившись к списку в списке под индексом [2]\n",
    "average_score = sum(student[2])/len(student[2])\n",
    "\n",
    "# Через условный оператор проверяем наличие стипендии - по условию средний балл должен быть не менее, чем 8\n",
    "if average_score >= 8: \n",
    "    increased_scholarship = True\n",
    "else:\n",
    "    increased_scholarship = False\n",
    "\n",
    "# Далее просто выводим все результаты через f-строки\n",
    "print(f'Студент: {lastname}, {firstname}')\n",
    "print(f'Возраст студента: {age}')\n",
    "print(f'Оценки студента: {marks}')\n",
    "print(f'Средний балл студента: {average_score}')\n",
    "print(f'Повышенная стипендия: {increased_scholarship}')"
   ]
  },
  {
   "cell_type": "markdown",
   "metadata": {},
   "source": [
    "#### №2. Вложенные словари"
   ]
  },
  {
   "cell_type": "code",
   "execution_count": 69,
   "metadata": {},
   "outputs": [
    {
     "name": "stdout",
     "output_type": "stream",
     "text": [
      "разработчик\n"
     ]
    }
   ],
   "source": [
    "# Имеется словарь из списков словарей\n",
    "dict_of_lists = {'Список1': [{'Python': 'язык программирования'}, {'R':'язык программирования', 'LaTEX' : 'язык верстки' }],\n",
    "                 'Список2' : [{'Windows' : ['операционная система', 'разработчик'], 'UNIX' : 'операционная система'}, \n",
    "                              {'IBM': ['компания-производитель', 'разработчик'], 'IPv6' : 'интернет-протокол' }]}\n",
    "\n",
    "# Объяснять тут, по сути, нечего, просто сошлёмся на элемент, это, вроде как, нетрудно\n",
    "print(dict_of_lists['Список2'][0]['Windows'][1])"
   ]
  },
  {
   "cell_type": "markdown",
   "metadata": {},
   "source": [
    "#### №3. Станция метро"
   ]
  },
  {
   "cell_type": "code",
   "execution_count": 70,
   "metadata": {},
   "outputs": [
    {
     "name": "stdout",
     "output_type": "stream",
     "text": [
      "Данные введены неверно, такой станции нет\n"
     ]
    }
   ],
   "source": [
    "# Имеется жёлтая ветка метро, находящаяся на востоке Москвы - это список станций\n",
    "line = [\"Третьяковская\", \"Марксистская\", \"Площадь Ильича\", \"Авиамоторная\", \n",
    "        \"Шоссе Энтузиастов\", \"Перово\", \"Новогиреево\", \"Новокосино\"]\n",
    "\n",
    "# Через input вводим строку - станцию\n",
    "station = input('Введите станцию: ')\n",
    "\n",
    "# Условный оператор: если элемент имеет индекс [-1] в списке, то это конечная, в иных случаях выводим следующую станцию\n",
    "# Находим индекс текущей станции, прибавляем единицу и обращаемся к списку по полученному в результате индексу\n",
    "# Если станция не найдена в нашем списке, то просим возвращаем строку с сообщением, что такой станции нет, данные неверные\n",
    "if station == line[-1]:\n",
    "    print('Конечная, покиньте вагон')\n",
    "elif station in line:\n",
    "    index = line.index(station)\n",
    "    print(f'Следующая станция: {line[index + 1]}')\n",
    "else:\n",
    "    print('Данные введены неверно, такой станции нет')"
   ]
  },
  {
   "cell_type": "markdown",
   "metadata": {},
   "source": [
    "#### №4. Срезы списков"
   ]
  },
  {
   "cell_type": "code",
   "execution_count": 71,
   "metadata": {},
   "outputs": [
    {
     "name": "stdout",
     "output_type": "stream",
     "text": [
      "['Двалин', 'Бифур', 'Бофур']\n",
      "['Балин', 'Бифур', 'Бомбур', 'Глоин', 'Нори', 'Фили', 'Торин']\n",
      "['Оин', 'Дори', 'Ори', 'Кили']\n",
      "['Торин', 'Фили', 'Нори', 'Глоин']\n",
      "['Торин']\n"
     ]
    }
   ],
   "source": [
    "# Имеется список дварфов, нужно вывести некоторых из них по заданному условию\n",
    "dwarves = [\"Балин\", \"Двалин\", \"Бифур\", \"Бофур\", \"Бомбур\", \"Оин\", \"Глоин\", \"Дори\", \"Нори\", \"Ори\", \"Фили\", \"Кили\", \"Торин\"]\n",
    "\n",
    "# Тут тоже не очень понятно, что объяснять, находим нужные алгоритмы, используем срезы\n",
    "# В качестве мини-пояснения: [a:b:c], a - это включённая начальная точка, b - невключённая конечная точка, c - шаг\n",
    "print(dwarves[1:4])\n",
    "print(dwarves[:13:2])\n",
    "print(dwarves[5:13:2])\n",
    "print(dwarves[-1:-8:-2])\n",
    "print(dwarves[12:13])"
   ]
  },
  {
   "cell_type": "markdown",
   "metadata": {},
   "source": [
    "#### №5. Развернуть число"
   ]
  },
  {
   "cell_type": "code",
   "execution_count": 72,
   "metadata": {},
   "outputs": [
    {
     "ename": "KeyboardInterrupt",
     "evalue": "Interrupted by user",
     "output_type": "error",
     "traceback": [
      "\u001b[1;31m---------------------------------------------------------------------------\u001b[0m",
      "\u001b[1;31mKeyboardInterrupt\u001b[0m                         Traceback (most recent call last)",
      "Cell \u001b[1;32mIn[72], line 2\u001b[0m\n\u001b[0;32m      1\u001b[0m \u001b[38;5;66;03m# Вводим целое число используя int и input\u001b[39;00m\n\u001b[1;32m----> 2\u001b[0m number \u001b[38;5;241m=\u001b[39m \u001b[38;5;28mint\u001b[39m(\u001b[38;5;28;43minput\u001b[39;49m\u001b[43m(\u001b[49m\u001b[38;5;124;43m'\u001b[39;49m\u001b[38;5;124;43mВведите число: \u001b[39;49m\u001b[38;5;124;43m'\u001b[39;49m\u001b[43m)\u001b[49m)\n\u001b[0;32m      4\u001b[0m \u001b[38;5;66;03m# Обнулим переменную, в которой будет итоговое развёрнутое число\u001b[39;00m\n\u001b[0;32m      5\u001b[0m rebmun \u001b[38;5;241m=\u001b[39m \u001b[38;5;241m0\u001b[39m\n",
      "File \u001b[1;32mc:\\Users\\Светлая Личность\\Desktop\\HSE, files\\4\\4.1\\P\\Файлы\\env_p\\Lib\\site-packages\\ipykernel\\kernelbase.py:1282\u001b[0m, in \u001b[0;36mKernel.raw_input\u001b[1;34m(self, prompt)\u001b[0m\n\u001b[0;32m   1280\u001b[0m     msg \u001b[38;5;241m=\u001b[39m \u001b[38;5;124m\"\u001b[39m\u001b[38;5;124mraw_input was called, but this frontend does not support input requests.\u001b[39m\u001b[38;5;124m\"\u001b[39m\n\u001b[0;32m   1281\u001b[0m     \u001b[38;5;28;01mraise\u001b[39;00m StdinNotImplementedError(msg)\n\u001b[1;32m-> 1282\u001b[0m \u001b[38;5;28;01mreturn\u001b[39;00m \u001b[38;5;28;43mself\u001b[39;49m\u001b[38;5;241;43m.\u001b[39;49m\u001b[43m_input_request\u001b[49m\u001b[43m(\u001b[49m\n\u001b[0;32m   1283\u001b[0m \u001b[43m    \u001b[49m\u001b[38;5;28;43mstr\u001b[39;49m\u001b[43m(\u001b[49m\u001b[43mprompt\u001b[49m\u001b[43m)\u001b[49m\u001b[43m,\u001b[49m\n\u001b[0;32m   1284\u001b[0m \u001b[43m    \u001b[49m\u001b[38;5;28;43mself\u001b[39;49m\u001b[38;5;241;43m.\u001b[39;49m\u001b[43m_parent_ident\u001b[49m\u001b[43m[\u001b[49m\u001b[38;5;124;43m\"\u001b[39;49m\u001b[38;5;124;43mshell\u001b[39;49m\u001b[38;5;124;43m\"\u001b[39;49m\u001b[43m]\u001b[49m\u001b[43m,\u001b[49m\n\u001b[0;32m   1285\u001b[0m \u001b[43m    \u001b[49m\u001b[38;5;28;43mself\u001b[39;49m\u001b[38;5;241;43m.\u001b[39;49m\u001b[43mget_parent\u001b[49m\u001b[43m(\u001b[49m\u001b[38;5;124;43m\"\u001b[39;49m\u001b[38;5;124;43mshell\u001b[39;49m\u001b[38;5;124;43m\"\u001b[39;49m\u001b[43m)\u001b[49m\u001b[43m,\u001b[49m\n\u001b[0;32m   1286\u001b[0m \u001b[43m    \u001b[49m\u001b[43mpassword\u001b[49m\u001b[38;5;241;43m=\u001b[39;49m\u001b[38;5;28;43;01mFalse\u001b[39;49;00m\u001b[43m,\u001b[49m\n\u001b[0;32m   1287\u001b[0m \u001b[43m\u001b[49m\u001b[43m)\u001b[49m\n",
      "File \u001b[1;32mc:\\Users\\Светлая Личность\\Desktop\\HSE, files\\4\\4.1\\P\\Файлы\\env_p\\Lib\\site-packages\\ipykernel\\kernelbase.py:1325\u001b[0m, in \u001b[0;36mKernel._input_request\u001b[1;34m(self, prompt, ident, parent, password)\u001b[0m\n\u001b[0;32m   1322\u001b[0m \u001b[38;5;28;01mexcept\u001b[39;00m \u001b[38;5;167;01mKeyboardInterrupt\u001b[39;00m:\n\u001b[0;32m   1323\u001b[0m     \u001b[38;5;66;03m# re-raise KeyboardInterrupt, to truncate traceback\u001b[39;00m\n\u001b[0;32m   1324\u001b[0m     msg \u001b[38;5;241m=\u001b[39m \u001b[38;5;124m\"\u001b[39m\u001b[38;5;124mInterrupted by user\u001b[39m\u001b[38;5;124m\"\u001b[39m\n\u001b[1;32m-> 1325\u001b[0m     \u001b[38;5;28;01mraise\u001b[39;00m \u001b[38;5;167;01mKeyboardInterrupt\u001b[39;00m(msg) \u001b[38;5;28;01mfrom\u001b[39;00m \u001b[38;5;28;01mNone\u001b[39;00m\n\u001b[0;32m   1326\u001b[0m \u001b[38;5;28;01mexcept\u001b[39;00m \u001b[38;5;167;01mException\u001b[39;00m:\n\u001b[0;32m   1327\u001b[0m     \u001b[38;5;28mself\u001b[39m\u001b[38;5;241m.\u001b[39mlog\u001b[38;5;241m.\u001b[39mwarning(\u001b[38;5;124m\"\u001b[39m\u001b[38;5;124mInvalid Message:\u001b[39m\u001b[38;5;124m\"\u001b[39m, exc_info\u001b[38;5;241m=\u001b[39m\u001b[38;5;28;01mTrue\u001b[39;00m)\n",
      "\u001b[1;31mKeyboardInterrupt\u001b[0m: Interrupted by user"
     ]
    }
   ],
   "source": [
    "# Вводим целое число используя int и input\n",
    "number = int(input('Введите число: '))\n",
    "\n",
    "# Обнулим переменную, в которой будет итоговое развёрнутое число\n",
    "rebmun = 0\n",
    "\n",
    "# Используем цикл while с условием о том, что первоначальное число должно достичь нуля для остановки цикла\n",
    "# Находим остатки от деления на 10, тем самым получая цифры с правой стороны числа по очереди\n",
    "# В изначальном числе убираем крайние правые цифры путём деления на 10\n",
    "# Повторяем, пока число не кончится\n",
    "while number > 0:\n",
    "    rebmun *= 10\n",
    "    rebmun += number%10\n",
    "    number //= 10\n",
    "\n",
    "# Выводим полученное число\n",
    "print(f'Развернутое число: {rebmun}')"
   ]
  },
  {
   "cell_type": "markdown",
   "metadata": {},
   "source": [
    "#### №6. Треугольник"
   ]
  },
  {
   "cell_type": "code",
   "execution_count": null,
   "metadata": {},
   "outputs": [
    {
     "name": "stdout",
     "output_type": "stream",
     "text": [
      "1\n",
      "\n",
      "1 2\n",
      "\n",
      "1 2 3\n",
      "\n",
      "1 2 3 4\n",
      "\n",
      "1 2 3 4 5\n",
      "\n",
      "1 2 3 4 5 6\n",
      "\n",
      "1 2 3 4 5 6 7\n",
      "\n",
      "1 2 3 4 5 6 7 8\n",
      "\n",
      "1 2 3 4 5 6 7 8 9\n",
      "\n",
      "1 2 3 4 5 6 7 8 9 10\n",
      "\n",
      "1 2 3 4 5 6 7 8 9 10 11\n",
      "\n",
      "1 2 3 4 5 6 7 8 9 10 11 12\n",
      "\n"
     ]
    }
   ],
   "source": [
    "# Вводим число\n",
    "number = int(input('Введите число: '))\n",
    "\n",
    "# Довольно простой цикл\n",
    "# Он повторится number раз, каждый вход будет давать нам список чисел от 1 до i через пробел, пока i не достигнет N\n",
    "for i in range(1, number + 1):\n",
    "    print(' '.join(map(str, list(range(1, i + 1)))))\n",
    "    print()"
   ]
  },
  {
   "cell_type": "markdown",
   "metadata": {},
   "source": [
    "#### №7. Про Поросёнка Петра"
   ]
  },
  {
   "cell_type": "code",
   "execution_count": null,
   "metadata": {},
   "outputs": [
    {
     "name": "stdout",
     "output_type": "stream",
     "text": [
      "Пётр находится на расстоянии 10 от (0,0)\n"
     ]
    }
   ],
   "source": [
    "# Вводим число ходов, обозначаем начало координат\n",
    "number = int(input('Введите N: '))\n",
    "x = 0\n",
    "y = 0\n",
    "\n",
    "# Внутри цикла обозначаем, какие ходы делал Поросёнок, вводим каждый из них\n",
    "# Затем, в зависимости от направления, добавляем или отнимаем от значений начала координат шаги Поросёнка Петра\n",
    "# Кратчайший путь, если нельзя ходить по диагонали, будет просто суммой координат по обеим осям\n",
    "# В зависимости от того, какие данные введены неверно, будут возвращаться разные строки\n",
    "for i in range(1, number + 1):\n",
    "    motion = input(f'Ход {i}: ').split()\n",
    "    if len(motion) != 2 or not motion[1].isdigit():\n",
    "        print(f'Ход {i} введён неверно, Поросёнок Пётр не может соврешить такое действие')\n",
    "        continue\n",
    "\n",
    "    orientation = motion[0]\n",
    "    steps = int(motion[1])\n",
    "\n",
    "    if orientation == 'Вверх':\n",
    "        x += steps\n",
    "    elif orientation == 'Вниз':\n",
    "        x -= steps\n",
    "    elif orientation == 'Вправо':     \n",
    "        y += steps\n",
    "    elif orientation == 'Влево':\n",
    "        y -= steps\n",
    "    else:\n",
    "        print(f'Ход {i} введён неверно, такого направления не существует')\n",
    "\n",
    "# Выводим итоговый ответ для \n",
    "print(f'Пётр находится на расстоянии {abs(x) + abs(y)} от (0,0)')\n"
   ]
  },
  {
   "cell_type": "markdown",
   "metadata": {},
   "source": [
    "#### №8. Объединение словарей"
   ]
  },
  {
   "cell_type": "code",
   "execution_count": null,
   "metadata": {},
   "outputs": [
    {
     "name": "stdout",
     "output_type": "stream",
     "text": [
      "{'яблоки': 1150, 'конфеты': 300}\n"
     ]
    }
   ],
   "source": [
    "# Вводим имеющийся список словарей\n",
    "shops = [{'товар': 'яблоки', 'количество': 400},\n",
    "         {'товар': 'конфеты', 'количество': 300}, \n",
    "         {'товар': 'яблоки', 'количество': 750}]\n",
    "\n",
    "# Создадим функцию, которая будет возвращать наименование и количество товара в виде словаря\n",
    "# Функция принимает на вход список словарей\n",
    "# Функция обращается по ключам к каждому словарю и добавляет сначала ключ (если он уникальный и его ещё не было)\n",
    "# А затем количество товара для каждого товара (то есть ключа), суммируя значения\n",
    "def count_goods(shops):\n",
    "    result = {}\n",
    "    for shop in shops:\n",
    "        for key, value in shop.items():\n",
    "            if key == 'товар':\n",
    "                if value in result:\n",
    "                    result[value] += shop['количество']\n",
    "                else:\n",
    "                    result[value] = shop['количество']\n",
    "    return result\n",
    "\n",
    "print(count_goods(shops))"
   ]
  },
  {
   "cell_type": "markdown",
   "metadata": {},
   "source": [
    "#### Подготовка к анализу данных, разминка"
   ]
  },
  {
   "cell_type": "code",
   "execution_count": null,
   "metadata": {},
   "outputs": [],
   "source": [
    "import pandas as pd\n",
    "%matplotlib inline\n",
    "import matplotlib.pyplot as plt\n",
    "babies = pd.read_csv('https://raw.githubusercontent.com/pileyan/Data/master/data/babies%20names/babies_all.txt', index_col=0)"
   ]
  },
  {
   "cell_type": "markdown",
   "metadata": {},
   "source": [
    "#### Разминка, №1"
   ]
  },
  {
   "cell_type": "code",
   "execution_count": null,
   "metadata": {},
   "outputs": [
    {
     "name": "stdout",
     "output_type": "stream",
     "text": [
      "Список годов из датасета:\n",
      "[1880 1881 1882 1883 1884 1885 1886 1887 1888 1889 1890 1891 1892 1893\n",
      " 1894 1895 1896 1897 1898 1899 1900 1901 1902 1903 1904 1905 1906 1907\n",
      " 1908 1909 1910 1911 1912 1913 1914 1915 1916 1917 1918 1919 1920 1921\n",
      " 1922 1923 1924 1925 1926 1927 1928 1929 1930 1931 1932 1933 1934 1935\n",
      " 1936 1937 1938 1939 1940 1941 1942 1943 1944 1945 1946 1947 1948 1949\n",
      " 1950 1951 1952 1953 1954 1955 1956 1957 1958 1959 1960 1961 1962 1963\n",
      " 1964 1965 1966 1967 1968 1969 1970 1971 1972 1973 1974 1975 1976 1977\n",
      " 1978 1979 1980 1981 1982 1983 1984 1985 1986 1987 1988 1989 1990 1991\n",
      " 1992 1993 1994 1995 1996 1997 1998 1999 2000 2001 2002 2003 2004 2005\n",
      " 2006 2007 2008 2009 2010]\n"
     ]
    }
   ],
   "source": [
    "# С помощью unique находим, какие годы включает датасет\n",
    "print(\"Список годов из датасета:\")\n",
    "print(babies.year.unique())"
   ]
  },
  {
   "cell_type": "markdown",
   "metadata": {},
   "source": [
    "#### Разминка, №2"
   ]
  },
  {
   "cell_type": "code",
   "execution_count": null,
   "metadata": {},
   "outputs": [
    {
     "name": "stdout",
     "output_type": "stream",
     "text": [
      "Имя под индеком 121 - это Ann\n"
     ]
    }
   ],
   "source": [
    "# Просто обращаемся по индексу к нужному столбцу\n",
    "print(\"Имя под индеком 121 - это\", babies.iloc[121]['name'])"
   ]
  },
  {
   "cell_type": "markdown",
   "metadata": {},
   "source": [
    "#### Разминка, №3"
   ]
  },
  {
   "cell_type": "code",
   "execution_count": null,
   "metadata": {},
   "outputs": [
    {
     "name": "stdout",
     "output_type": "stream",
     "text": [
      "За всё время наблюдений из базы данных родилось 212 человек с именем Аарон\n"
     ]
    }
   ],
   "source": [
    "# Просто ищем соответствия в нужном столбце\n",
    "print(\"За всё время наблюдений из базы данных родилось\", babies[babies.name == 'Aaron'].shape[0], \"человек с именем Аарон\")"
   ]
  },
  {
   "cell_type": "markdown",
   "metadata": {},
   "source": [
    "#### Разминка, №4"
   ]
  },
  {
   "cell_type": "code",
   "execution_count": null,
   "metadata": {},
   "outputs": [
    {
     "name": "stdout",
     "output_type": "stream",
     "text": [
      "Мальчиков родилось больше на -317186 то есть, по сути, мальчиков родилось меньше, чем девочек на величину найденного значения\n"
     ]
    }
   ],
   "source": [
    "# Находим разность между количеством значений по столбцу sex для мужчин и женщин, соответственно\n",
    "print(\"Мальчиков родилось больше на\", babies[babies.sex == 'M'].shape[0] - babies[babies.sex == 'F'].shape[0], \"то есть, по сути, мальчиков родилось меньше, чем девочек на величину найденного значения\")"
   ]
  },
  {
   "cell_type": "markdown",
   "metadata": {},
   "source": [
    "#### Разминка, №5"
   ]
  },
  {
   "cell_type": "code",
   "execution_count": null,
   "metadata": {},
   "outputs": [
    {
     "name": "stdout",
     "output_type": "stream",
     "text": [
      "В 2010 родилось 14140 мальчиков\n"
     ]
    }
   ],
   "source": [
    "# Ставим два нужных по условию фильтра - год и пол\n",
    "print(\"В 2010 году родилось\", babies[(babies.year == 2010) & (babies.sex == 'M')].shape[0], \"мальчиков\")"
   ]
  },
  {
   "cell_type": "markdown",
   "metadata": {},
   "source": [
    "#### Подготовка к анализу данных, основная часть"
   ]
  },
  {
   "cell_type": "code",
   "execution_count": 73,
   "metadata": {},
   "outputs": [
    {
     "data": {
      "text/html": [
       "<div>\n",
       "<style scoped>\n",
       "    .dataframe tbody tr th:only-of-type {\n",
       "        vertical-align: middle;\n",
       "    }\n",
       "\n",
       "    .dataframe tbody tr th {\n",
       "        vertical-align: top;\n",
       "    }\n",
       "\n",
       "    .dataframe thead th {\n",
       "        text-align: right;\n",
       "    }\n",
       "</style>\n",
       "<table border=\"1\" class=\"dataframe\">\n",
       "  <thead>\n",
       "    <tr style=\"text-align: right;\">\n",
       "      <th></th>\n",
       "      <th>hotel</th>\n",
       "      <th>is_canceled</th>\n",
       "      <th>lead_time</th>\n",
       "      <th>arrival_date_year</th>\n",
       "      <th>arrival_date_month</th>\n",
       "      <th>arrival_date_week_number</th>\n",
       "      <th>arrival_date_day_of_month</th>\n",
       "      <th>stays_in_weekend_nights</th>\n",
       "      <th>stays_in_week_nights</th>\n",
       "      <th>adults</th>\n",
       "      <th>...</th>\n",
       "      <th>customer_type</th>\n",
       "      <th>adr</th>\n",
       "      <th>required_car_parking_spaces</th>\n",
       "      <th>total_of_special_requests</th>\n",
       "      <th>reservation_status</th>\n",
       "      <th>reservation_status_date</th>\n",
       "      <th>name</th>\n",
       "      <th>email</th>\n",
       "      <th>phone-number</th>\n",
       "      <th>credit_card</th>\n",
       "    </tr>\n",
       "  </thead>\n",
       "  <tbody>\n",
       "    <tr>\n",
       "      <th>0</th>\n",
       "      <td>Resort Hotel</td>\n",
       "      <td>0</td>\n",
       "      <td>342</td>\n",
       "      <td>2015</td>\n",
       "      <td>July</td>\n",
       "      <td>27</td>\n",
       "      <td>1</td>\n",
       "      <td>0</td>\n",
       "      <td>0</td>\n",
       "      <td>2</td>\n",
       "      <td>...</td>\n",
       "      <td>Transient</td>\n",
       "      <td>0.0</td>\n",
       "      <td>0</td>\n",
       "      <td>0</td>\n",
       "      <td>Check-Out</td>\n",
       "      <td>2015-07-01</td>\n",
       "      <td>Ernest Barnes</td>\n",
       "      <td>Ernest.Barnes31@outlook.com</td>\n",
       "      <td>669-792-1661</td>\n",
       "      <td>************4322</td>\n",
       "    </tr>\n",
       "    <tr>\n",
       "      <th>1</th>\n",
       "      <td>Resort Hotel</td>\n",
       "      <td>0</td>\n",
       "      <td>737</td>\n",
       "      <td>2015</td>\n",
       "      <td>July</td>\n",
       "      <td>27</td>\n",
       "      <td>1</td>\n",
       "      <td>0</td>\n",
       "      <td>0</td>\n",
       "      <td>2</td>\n",
       "      <td>...</td>\n",
       "      <td>Transient</td>\n",
       "      <td>0.0</td>\n",
       "      <td>0</td>\n",
       "      <td>0</td>\n",
       "      <td>Check-Out</td>\n",
       "      <td>2015-07-01</td>\n",
       "      <td>Andrea Baker</td>\n",
       "      <td>Andrea_Baker94@aol.com</td>\n",
       "      <td>858-637-6955</td>\n",
       "      <td>************9157</td>\n",
       "    </tr>\n",
       "    <tr>\n",
       "      <th>2</th>\n",
       "      <td>Resort Hotel</td>\n",
       "      <td>0</td>\n",
       "      <td>7</td>\n",
       "      <td>2015</td>\n",
       "      <td>July</td>\n",
       "      <td>27</td>\n",
       "      <td>1</td>\n",
       "      <td>0</td>\n",
       "      <td>1</td>\n",
       "      <td>1</td>\n",
       "      <td>...</td>\n",
       "      <td>Transient</td>\n",
       "      <td>75.0</td>\n",
       "      <td>0</td>\n",
       "      <td>0</td>\n",
       "      <td>Check-Out</td>\n",
       "      <td>2015-07-02</td>\n",
       "      <td>Rebecca Parker</td>\n",
       "      <td>Rebecca_Parker@comcast.net</td>\n",
       "      <td>652-885-2745</td>\n",
       "      <td>************3734</td>\n",
       "    </tr>\n",
       "    <tr>\n",
       "      <th>3</th>\n",
       "      <td>Resort Hotel</td>\n",
       "      <td>0</td>\n",
       "      <td>13</td>\n",
       "      <td>2015</td>\n",
       "      <td>July</td>\n",
       "      <td>27</td>\n",
       "      <td>1</td>\n",
       "      <td>0</td>\n",
       "      <td>1</td>\n",
       "      <td>1</td>\n",
       "      <td>...</td>\n",
       "      <td>Transient</td>\n",
       "      <td>75.0</td>\n",
       "      <td>0</td>\n",
       "      <td>0</td>\n",
       "      <td>Check-Out</td>\n",
       "      <td>2015-07-02</td>\n",
       "      <td>Laura Murray</td>\n",
       "      <td>Laura_M@gmail.com</td>\n",
       "      <td>364-656-8427</td>\n",
       "      <td>************5677</td>\n",
       "    </tr>\n",
       "    <tr>\n",
       "      <th>4</th>\n",
       "      <td>Resort Hotel</td>\n",
       "      <td>0</td>\n",
       "      <td>14</td>\n",
       "      <td>2015</td>\n",
       "      <td>July</td>\n",
       "      <td>27</td>\n",
       "      <td>1</td>\n",
       "      <td>0</td>\n",
       "      <td>2</td>\n",
       "      <td>2</td>\n",
       "      <td>...</td>\n",
       "      <td>Transient</td>\n",
       "      <td>98.0</td>\n",
       "      <td>0</td>\n",
       "      <td>1</td>\n",
       "      <td>Check-Out</td>\n",
       "      <td>2015-07-03</td>\n",
       "      <td>Linda Hines</td>\n",
       "      <td>LHines@verizon.com</td>\n",
       "      <td>713-226-5883</td>\n",
       "      <td>************5498</td>\n",
       "    </tr>\n",
       "  </tbody>\n",
       "</table>\n",
       "<p>5 rows × 36 columns</p>\n",
       "</div>"
      ],
      "text/plain": [
       "          hotel  is_canceled  lead_time  arrival_date_year arrival_date_month  \\\n",
       "0  Resort Hotel            0        342               2015               July   \n",
       "1  Resort Hotel            0        737               2015               July   \n",
       "2  Resort Hotel            0          7               2015               July   \n",
       "3  Resort Hotel            0         13               2015               July   \n",
       "4  Resort Hotel            0         14               2015               July   \n",
       "\n",
       "   arrival_date_week_number  arrival_date_day_of_month  \\\n",
       "0                        27                          1   \n",
       "1                        27                          1   \n",
       "2                        27                          1   \n",
       "3                        27                          1   \n",
       "4                        27                          1   \n",
       "\n",
       "   stays_in_weekend_nights  stays_in_week_nights  adults  ...  customer_type  \\\n",
       "0                        0                     0       2  ...      Transient   \n",
       "1                        0                     0       2  ...      Transient   \n",
       "2                        0                     1       1  ...      Transient   \n",
       "3                        0                     1       1  ...      Transient   \n",
       "4                        0                     2       2  ...      Transient   \n",
       "\n",
       "    adr required_car_parking_spaces total_of_special_requests  \\\n",
       "0   0.0                           0                         0   \n",
       "1   0.0                           0                         0   \n",
       "2  75.0                           0                         0   \n",
       "3  75.0                           0                         0   \n",
       "4  98.0                           0                         1   \n",
       "\n",
       "  reservation_status reservation_status_date            name  \\\n",
       "0          Check-Out              2015-07-01   Ernest Barnes   \n",
       "1          Check-Out              2015-07-01    Andrea Baker   \n",
       "2          Check-Out              2015-07-02  Rebecca Parker   \n",
       "3          Check-Out              2015-07-02    Laura Murray   \n",
       "4          Check-Out              2015-07-03     Linda Hines   \n",
       "\n",
       "                         email  phone-number       credit_card  \n",
       "0  Ernest.Barnes31@outlook.com  669-792-1661  ************4322  \n",
       "1       Andrea_Baker94@aol.com  858-637-6955  ************9157  \n",
       "2   Rebecca_Parker@comcast.net  652-885-2745  ************3734  \n",
       "3            Laura_M@gmail.com  364-656-8427  ************5677  \n",
       "4           LHines@verizon.com  713-226-5883  ************5498  \n",
       "\n",
       "[5 rows x 36 columns]"
      ]
     },
     "execution_count": 73,
     "metadata": {},
     "output_type": "execute_result"
    }
   ],
   "source": [
    "import pandas as pd\n",
    "hotels = pd.read_csv(\"data/hotel_booking_data.csv\")\n",
    "hotels.head()"
   ]
  },
  {
   "cell_type": "markdown",
   "metadata": {},
   "source": [
    "#### Анализ данных, №1"
   ]
  },
  {
   "cell_type": "code",
   "execution_count": 77,
   "metadata": {},
   "outputs": [
    {
     "name": "stdout",
     "output_type": "stream",
     "text": [
      "В наборе данных 119390 строк\n"
     ]
    }
   ],
   "source": [
    "# Для подсчёта используем shape, для учёта строк посылаем в shape значение 0\n",
    "print(f'В наборе данных {hotels.shape[0]} строк')"
   ]
  },
  {
   "cell_type": "markdown",
   "metadata": {},
   "source": [
    "#### Анализ данных, №2"
   ]
  },
  {
   "cell_type": "code",
   "execution_count": 79,
   "metadata": {},
   "outputs": [
    {
     "name": "stdout",
     "output_type": "stream",
     "text": [
      "company                           112593\n",
      "agent                              16340\n",
      "country                              488\n",
      "children                               4\n",
      "arrival_date_year                      0\n",
      "lead_time                              0\n",
      "is_canceled                            0\n",
      "hotel                                  0\n",
      "stays_in_weekend_nights                0\n",
      "stays_in_week_nights                   0\n",
      "arrival_date_day_of_month              0\n",
      "arrival_date_month                     0\n",
      "babies                                 0\n",
      "meal                                   0\n",
      "market_segment                         0\n",
      "distribution_channel                   0\n",
      "is_repeated_guest                      0\n",
      "previous_cancellations                 0\n",
      "adults                                 0\n",
      "arrival_date_week_number               0\n",
      "reserved_room_type                     0\n",
      "previous_bookings_not_canceled         0\n",
      "booking_changes                        0\n",
      "assigned_room_type                     0\n",
      "deposit_type                           0\n",
      "days_in_waiting_list                   0\n",
      "customer_type                          0\n",
      "adr                                    0\n",
      "required_car_parking_spaces            0\n",
      "total_of_special_requests              0\n",
      "reservation_status                     0\n",
      "reservation_status_date                0\n",
      "name                                   0\n",
      "email                                  0\n",
      "phone-number                           0\n",
      "credit_card                            0\n",
      "dtype: int64\n"
     ]
    }
   ],
   "source": [
    "# Посчитаем пропуски с помощью isnull и суммируем их с помощью sum, после чего отсортируем\n",
    "# Пропущенные значения есть в четырёх столбцах, больше всего - в столбце company (112593)\n",
    "print(hotels.isnull().sum().sort_values(ascending = False))"
   ]
  },
  {
   "cell_type": "markdown",
   "metadata": {},
   "source": [
    "#### Анализ данных, №3"
   ]
  },
  {
   "cell_type": "code",
   "execution_count": 80,
   "metadata": {},
   "outputs": [],
   "source": [
    "# Удалим столбец company, в котором больше всего пропущенных значений, с помощью drop\n",
    "hotels_without_company = hotels.drop(columns = ['company'])"
   ]
  },
  {
   "cell_type": "markdown",
   "metadata": {},
   "source": [
    "#### Анализ данных, №4"
   ]
  },
  {
   "cell_type": "code",
   "execution_count": 85,
   "metadata": {},
   "outputs": [
    {
     "data": {
      "text/plain": [
       "country\n",
       "PRT    48590\n",
       "GBR    12129\n",
       "FRA    10415\n",
       "ESP     8568\n",
       "DEU     7287\n",
       "Name: count, dtype: int64"
      ]
     },
     "execution_count": 85,
     "metadata": {},
     "output_type": "execute_result"
    }
   ],
   "source": [
    "# Посчитаем значения - value_counts - и выведем первые 5 с помощью head\n",
    "# Самые упоминаемые в наборе данных страны - это Португалия, Великобритания, Франция, Испания и Германия\n",
    "hotels.country.value_counts().head()"
   ]
  },
  {
   "cell_type": "markdown",
   "metadata": {},
   "source": [
    "#### Анализ данных, №5"
   ]
  },
  {
   "cell_type": "code",
   "execution_count": 86,
   "metadata": {},
   "outputs": [
    {
     "name": "stdout",
     "output_type": "stream",
     "text": [
      "                name     adr\n",
      "48515  Daniel Walter  5400.0\n"
     ]
    }
   ],
   "source": [
    "# Зададим условие - максимальное значение в столбце adr - и выведем только колонку с именем и, собственно, adr \n",
    "print(hotels[hotels['adr'] == hotels['adr'].max()][['name', 'adr']])"
   ]
  },
  {
   "cell_type": "markdown",
   "metadata": {},
   "source": [
    "#### Анализ данных, №6"
   ]
  },
  {
   "cell_type": "code",
   "execution_count": 92,
   "metadata": {},
   "outputs": [
    {
     "name": "stdout",
     "output_type": "stream",
     "text": [
      "Среднее значение adr для всех бронирований из набора данных = 101.83112153446686\n"
     ]
    }
   ],
   "source": [
    "# Просто применим mean к указанному столбцу\n",
    "print(\"Среднее значение adr для всех бронирований из набора данных =\", hotels['adr'].mean())"
   ]
  },
  {
   "cell_type": "markdown",
   "metadata": {},
   "source": [
    "#### Анализ данных, №7"
   ]
  },
  {
   "cell_type": "code",
   "execution_count": 93,
   "metadata": {},
   "outputs": [
    {
     "name": "stdout",
     "output_type": "stream",
     "text": [
      "Среднее количество ночей по всем бронированиям = 3.43\n"
     ]
    }
   ],
   "source": [
    "# Создаём новую переменную путём суммирования ночей в выходные и будни, применяем mean, а потом round для округления\n",
    "print(\"Среднее количество ночей по всем бронированиям =\", round((hotels['stays_in_week_nights'] + hotels['stays_in_weekend_nights']).mean(), 2))"
   ]
  },
  {
   "cell_type": "markdown",
   "metadata": {},
   "source": [
    "#### Анализ данных, №8"
   ]
  },
  {
   "cell_type": "code",
   "execution_count": 94,
   "metadata": {},
   "outputs": [
    {
     "name": "stdout",
     "output_type": "stream",
     "text": [
      "Средняя общая сумма бронирования = 357.85\n"
     ]
    }
   ],
   "source": [
    "# Умножаем значение adr на сумму ночей в выходные и будние дни, применяем опять же mean, а потом round для округления\n",
    "print(\"Средняя общая сумма бронирования =\", round((hotels['adr'] * (hotels['stays_in_week_nights'] + hotels['stays_in_weekend_nights'])).mean(), 2))"
   ]
  },
  {
   "cell_type": "markdown",
   "metadata": {},
   "source": [
    "#### Анализ данных, №9"
   ]
  },
  {
   "cell_type": "code",
   "execution_count": null,
   "metadata": {},
   "outputs": [],
   "source": [
    "# С помощью loc можем установить фильтрацию поиска, зададим искомое значение для столбца со специальными запросами\n",
    "# После этого выведем, собственно, получившуюся таблицу с именами и электронными адресами\n",
    "print(hotels.loc[hotels['total_of_special_requests'] == 5, ['name', 'email']])"
   ]
  },
  {
   "cell_type": "markdown",
   "metadata": {},
   "source": [
    "#### Анализ данных, №10"
   ]
  },
  {
   "cell_type": "code",
   "execution_count": 95,
   "metadata": {},
   "outputs": [
    {
     "name": "stdout",
     "output_type": "stream",
     "text": [
      "is_repeated_guest\n",
      "0    0.968088\n",
      "1    0.031912\n",
      "Name: proportion, dtype: float64\n"
     ]
    }
   ],
   "source": [
    "# С помощью value_counts посчитаем значения и передадим этому методу normalize = True, чтобы получить процентное соотношение\n",
    "# 3.1912% бронирований можно классифицировать как повторных гостей\n",
    "print(hotels.is_repeated_guest.value_counts(normalize = True))"
   ]
  },
  {
   "cell_type": "markdown",
   "metadata": {},
   "source": [
    "#### Анализ данных, №11"
   ]
  },
  {
   "cell_type": "code",
   "execution_count": 96,
   "metadata": {},
   "outputs": [
    {
     "name": "stdout",
     "output_type": "stream",
     "text": [
      "name\n",
      "Smith       2503\n",
      "Johnson     1990\n",
      "Williams    1618\n",
      "Jones       1434\n",
      "Brown       1423\n",
      "Name: count, dtype: int64\n"
     ]
    }
   ],
   "source": [
    "# Читаем столбец с именами, как строку, разбиваем по пробелу с помощью split, берём последний элемент, считаем и выводим\n",
    "print(hotels['name'].str.split().str[-1].value_counts().head(5))"
   ]
  },
  {
   "cell_type": "markdown",
   "metadata": {},
   "source": [
    "#### Анализ данных, №12"
   ]
  },
  {
   "cell_type": "code",
   "execution_count": null,
   "metadata": {},
   "outputs": [],
   "source": [
    "# Задаём условие с помощью loc. Условие - максимальная сумма детей и младенцев. Выведем имена, детей и младенцев, соответственно\n",
    "print(hotels.loc[(hotels['children'] + hotels['babies']) == (hotels['children'] + hotels['babies']).max(), ['name', 'children', 'babies']])"
   ]
  },
  {
   "cell_type": "markdown",
   "metadata": {},
   "source": [
    "#### Анализ данных, №13"
   ]
  },
  {
   "cell_type": "code",
   "execution_count": 97,
   "metadata": {},
   "outputs": [
    {
     "name": "stdout",
     "output_type": "stream",
     "text": [
      "phone-number\n",
      "799    168\n",
      "185    167\n",
      "541    166\n",
      "Name: count, dtype: int64\n"
     ]
    }
   ],
   "source": [
    "# Выберем строку с телефонными номерами, с помощью среза считаем три первых символа и как обычно - value_counts и head\n",
    "print(hotels['phone-number'].str[:3].value_counts().head(3))"
   ]
  },
  {
   "cell_type": "markdown",
   "metadata": {},
   "source": [
    "#### Анализ данных, №14"
   ]
  },
  {
   "cell_type": "code",
   "execution_count": 98,
   "metadata": {},
   "outputs": [
    {
     "name": "stdout",
     "output_type": "stream",
     "text": [
      "58152\n"
     ]
    }
   ],
   "source": [
    "# Для нужного столбца установим условие, чтобы количество дней было не меньше единицы и не больше пятнадцати\n",
    "# Как обычно используем loc, после чего просто посчитаем с помощью count количество строк\n",
    "print(hotels.loc[(hotels['arrival_date_day_of_month'] >= 1) & (hotels['arrival_date_day_of_month'] <= 15), 'arrival_date_day_of_month'].count())"
   ]
  }
 ],
 "metadata": {
  "kernelspec": {
   "display_name": "env_p",
   "language": "python",
   "name": "python3"
  },
  "language_info": {
   "codemirror_mode": {
    "name": "ipython",
    "version": 3
   },
   "file_extension": ".py",
   "mimetype": "text/x-python",
   "name": "python",
   "nbconvert_exporter": "python",
   "pygments_lexer": "ipython3",
   "version": "3.11.4"
  }
 },
 "nbformat": 4,
 "nbformat_minor": 2
}
